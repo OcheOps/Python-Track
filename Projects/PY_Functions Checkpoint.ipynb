{
 "cells": [
  {
   "cell_type": "markdown",
   "id": "438e109b",
   "metadata": {},
   "source": [
    "# Objective\n",
    "\n",
    "To create a calculator app that can perform basic arithmetic operations.\n",
    "\n",
    "### Description\n",
    "\n",
    "This exercise involves creating a simple calculator app using Python. The app should perform addition, subtraction, multiplication, and division operations. It will prompt the user to input two numbers and an arithmetic operator, then perform the corresponding operation and return the result.\n",
    "\n",
    "### Instructions\n",
    "\n",
    "1. **Open a New Python File:**\n",
    "   Start by opening a new Python file in your preferred code editor.\n",
    "\n",
    "2. **Define the Calculator Function:**\n",
    "   Create a function named `calculator` that takes two arguments, `num1` and `num2`.\n",
    "\n",
    "3. **Prompt for Operator:**\n",
    "   Within the function, prompt the user to enter an operator (`+`, `-`, `*`, `/`).\n",
    "\n",
    "4. **Perform the Operation:**\n",
    "   Use conditional statements to determine which operation to perform based on the user's input.\n",
    "\n",
    "5. **Return the Result:**\n",
    "   Return the result of the operation.\n",
    "\n",
    "6. **Handle Invalid Input:**\n",
    "   Handle cases where the user inputs invalid operators or tries to divide by zero.\n",
    "\n",
    "7. **Call the Function:**\n",
    "   Call the function `calculator` with two numbers and print the result."
   ]
  },
  {
   "cell_type": "code",
   "execution_count": null,
   "id": "6073d817",
   "metadata": {},
   "outputs": [],
   "source": [
    "def calculator(num1, num2):\n",
    "    # Prompt the user to enter an operator\n",
    "    operator = input(\"Enter the operator (+, -, *, /): \")\n",
    "    \n",
    "    # Perform the operation based on the user input\n",
    "    if operator == '+':\n",
    "        return num1 + num2\n",
    "    elif operator == '-':\n",
    "        return num1 - num2\n",
    "    elif operator == '*':\n",
    "        return num1 * num2\n",
    "    elif operator == '/':\n",
    "        # Handle division by zero\n",
    "        if num2 == 0:\n",
    "            return \"Error: Division by zero is not allowed.\"\n",
    "        else:\n",
    "            return num1 / num2\n",
    "    else:\n",
    "        return \"Error: Invalid operator.\"\n",
    "\n",
    "# Example usage\n",
    "while True:\n",
    "    try:\n",
    "        # Input the two numbers from the user\n",
    "        num1 = float(input(\"Enter the first number: \"))\n",
    "        num2 = float(input(\"Enter the second number: \"))\n",
    "        \n",
    "        # Call the calculator function and print the result\n",
    "        result = calculator(num1, num2)\n",
    "        print(f\"The result is: {result}\")\n",
    "        \n",
    "        # Ask if the user wants to perform another calculation\n",
    "        again = input(\"Do you want to perform another calculation? (yes/no): \").strip().lower()\n",
    "        if again != 'yes':\n",
    "            break\n",
    "    \n",
    "    except ValueError:\n",
    "        print(\"Error: Please enter valid numbers.\")"
   ]
  }
 ],
 "metadata": {
  "kernelspec": {
   "display_name": "Python 3 (ipykernel)",
   "language": "python",
   "name": "python3"
  },
  "language_info": {
   "codemirror_mode": {
    "name": "ipython",
    "version": 3
   },
   "file_extension": ".py",
   "mimetype": "text/x-python",
   "name": "python",
   "nbconvert_exporter": "python",
   "pygments_lexer": "ipython3",
   "version": "3.10.9"
  }
 },
 "nbformat": 4,
 "nbformat_minor": 5
}
