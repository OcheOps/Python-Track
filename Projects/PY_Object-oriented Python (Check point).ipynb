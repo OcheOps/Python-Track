{
 "cells": [
  {
   "cell_type": "markdown",
   "id": "19cbe39f",
   "metadata": {},
   "source": [
    "# Objective\n",
    "\n",
    "In this checkpoint, you will solve programming problems by creating objects.\n",
    "\n",
    "**Instructions**\n",
    "\n",
    "1. Write a Python class named `Point3D`, defined by `x`, `y`, and `z`. Define a method that returns the tuple `(x, y, z)`. This will represent the object in the format: `(x, y, z)`. Then, create a variable named `my_point` containing a new instance of `Point3D` with `x=1`, `y=2`, and `z=3`, and print it.\n",
    "\n",
    "2. Write a Python class named `Rectangle`, constructed with a `length` and `width`. Define two methods, `area` and `perimeter`, which compute the area and perimeter of the rectangle, respectively. Create a variable named `my_rectangle` containing a new instance of `Rectangle` with `width=3` and `length=4`. Compute both the area and the perimeter (the area should be `3*4=12` and the perimeter should be `2*(3+4)=14`).\n",
    "\n",
    "3. Write a Python class named `Circle`, constructed with its center `O` and radius `r`. Define two methods, `area` and `perimeter`, to compute the area and the perimeter of the circle. Also, define an `is_inside` method that allows you to test whether a point `A(x, y)` is inside the circle `C(O, r)` or not.\n",
    "\n",
    "4. Suppose we want to model a bank account with support for deposit and withdrawal operations. Create a Python class named `Bank`, defined by its `balance`. Define two methods, `deposit` and `withdraw`, to compute the new amount of the balance after each operation."
   ]
  },
  {
   "cell_type": "markdown",
   "id": "8936bb33",
   "metadata": {},
   "source": [
    "## Point3D Class"
   ]
  },
  {
   "cell_type": "code",
   "execution_count": 3,
   "id": "37200b69",
   "metadata": {},
   "outputs": [],
   "source": [
    "class Point3D:\n",
    "    \"\"\"\n",
    "    A class representing a 3D point with x, y, and z coordinates.\n",
    "    \"\"\"\n",
    "    def __init__(self, x, y, z):\n",
    "        \"\"\"\n",
    "        Initializes a new instance of the Point3D class with the given x, y, and z coordinates.\n",
    "        \"\"\"\n",
    "        self.x = x\n",
    "        self.y = y\n",
    "        self.z = z\n",
    "\n",
    "      # Define a method to get the coordinates as a tuple\n",
    "    def get_coordinates(self):\n",
    "        # This method returns the coordinates as a tuple (x, y, z)\n",
    "        return (self.x, self.y, self.z)"
   ]
  },
  {
   "cell_type": "code",
   "execution_count": 4,
   "id": "af5ebbfb",
   "metadata": {},
   "outputs": [
    {
     "name": "stdout",
     "output_type": "stream",
     "text": [
      "(1, 2, 3)\n"
     ]
    }
   ],
   "source": [
    "# Create a new instance of Point3D with x=1, y=2, and z=3\n",
    "my_point = Point3D(1, 2, 3)\n",
    "\n",
    "# Call the method to get the tuple and print it\n",
    "print(my_point.get_coordinates())"
   ]
  },
  {
   "cell_type": "markdown",
   "id": "351d61e1",
   "metadata": {},
   "source": [
    "## Rectangle Class"
   ]
  },
  {
   "cell_type": "code",
   "execution_count": null,
   "id": "02d2c54c",
   "metadata": {},
   "outputs": [],
   "source": [
    "# Define a class named Rectangle\n",
    "class Rectangle:\n",
    "    # The __init__ method initializes the Rectangle with a given length and width\n",
    "    def __init__(self, length, width):\n",
    "        self.length = length  # Store the length in the object\n",
    "        self.width = width    # Store the width in the object\n",
    "\n",
    "    # Define a method to compute the area of the rectangle\n",
    "    def area(self):\n",
    "        return self.length * self.width  # Area is length multiplied by width\n",
    "\n",
    "    # Define a method to compute the perimeter of the rectangle\n",
    "    def perimeter(self):\n",
    "        return 2 * (self.length + self.width)  # Perimeter is 2 times the sum of length and width"
   ]
  },
  {
   "cell_type": "code",
   "execution_count": null,
   "id": "6c4df57f",
   "metadata": {},
   "outputs": [],
   "source": [
    "# Create a new instance of Rectangle with width=3 and length=4\n",
    "my_rectangle = Rectangle(4, 3)"
   ]
  },
  {
   "cell_type": "code",
   "execution_count": null,
   "id": "86ea7ae2",
   "metadata": {},
   "outputs": [],
   "source": [
    "# Compute and print the area of the rectangle\n",
    "print(\"Area:\", my_rectangle.area())  # Expected output: 12"
   ]
  },
  {
   "cell_type": "code",
   "execution_count": null,
   "id": "edef21b2",
   "metadata": {},
   "outputs": [],
   "source": [
    "# Compute and print the perimeter of the rectangle\n",
    "print(\"Perimeter:\", my_rectangle.perimeter())  # Expected output: 14"
   ]
  },
  {
   "cell_type": "markdown",
   "id": "6823365d",
   "metadata": {},
   "source": [
    "## Circle"
   ]
  },
  {
   "cell_type": "code",
   "execution_count": null,
   "id": "d18b0e84",
   "metadata": {},
   "outputs": [],
   "source": [
    "import math\n",
    "\n",
    "# Define a class named Circle\n",
    "class Circle:\n",
    "    # The __init__ method initializes the Circle with a given center (x, y) and radius\n",
    "    def __init__(self, center_x, center_y, radius):\n",
    "        self.center_x = center_x  # Store the x-coordinate of the center\n",
    "        self.center_y = center_y  # Store the y-coordinate of the center\n",
    "        self.radius = radius      # Store the radius\n",
    "\n",
    "    # Define a method to compute the area of the circle\n",
    "    def area(self):\n",
    "        return math.pi * (self.radius ** 2)  # Area is π * radius^2\n",
    "\n",
    "    # Define a method to compute the perimeter (circumference) of the circle\n",
    "    def perimeter(self):\n",
    "        return 2 * math.pi * self.radius  # Perimeter is 2 * π * radius\n",
    "\n",
    "    # Define a method to check if a point (x, y) is inside the circle\n",
    "    def is_inside(self, x, y):\n",
    "        # Calculate the distance from the point to the center of the circle\n",
    "        distance = math.sqrt((x - self.center_x) ** 2 + (y - self.center_y) ** 2)\n",
    "        # If the distance is less than or equal to the radius, the point is inside the circle\n",
    "        return distance <= self.radius"
   ]
  },
  {
   "cell_type": "code",
   "execution_count": null,
   "id": "873f699b",
   "metadata": {},
   "outputs": [],
   "source": [
    "# Create a new instance of Circle with center at (0, 0) and radius 5\n",
    "my_circle = Circle(0, 0, 5)"
   ]
  },
  {
   "cell_type": "code",
   "execution_count": null,
   "id": "5c87cc6f",
   "metadata": {},
   "outputs": [],
   "source": [
    "# Compute and print the area of the circle\n",
    "print(\"Area:\", my_circle.area())  # Expected output: 78.53981633974483 (approximately)"
   ]
  },
  {
   "cell_type": "code",
   "execution_count": null,
   "id": "0cb1b5c2",
   "metadata": {},
   "outputs": [],
   "source": [
    "# Compute and print the perimeter of the circle\n",
    "print(\"Perimeter:\", my_circle.perimeter())  # Expected output: 31.41592653589793 (approximately)"
   ]
  },
  {
   "cell_type": "code",
   "execution_count": null,
   "id": "8fc94739",
   "metadata": {},
   "outputs": [],
   "source": [
    "# Check if the point (3, 4) is inside the circle and print the result\n",
    "print(\"Is point (3, 4) inside the circle?\", my_circle.is_inside(3, 4))  # Expected output: True"
   ]
  },
  {
   "cell_type": "code",
   "execution_count": null,
   "id": "eb98e78f",
   "metadata": {},
   "outputs": [],
   "source": [
    "# Check if the point (6, 6) is inside the circle and print the result\n",
    "print(\"Is point (6, 6) inside the circle?\", my_circle.is_inside(6, 6))  # Expected output: False"
   ]
  },
  {
   "cell_type": "markdown",
   "id": "99f562fe",
   "metadata": {},
   "source": [
    "## Bank Class"
   ]
  },
  {
   "cell_type": "code",
   "execution_count": null,
   "id": "76ac3683",
   "metadata": {},
   "outputs": [],
   "source": [
    "# Define a class named Bank\n",
    "class Bank:\n",
    "    # The __init__ method initializes the Bank account with a given balance\n",
    "    def __init__(self, balance=0):\n",
    "        self.balance = balance  # Store the initial balance in the object\n",
    "\n",
    "    # Define a method to deposit money into the bank account\n",
    "    def deposit(self, amount):\n",
    "        self.balance += amount  # Increase the balance by the deposit amount\n",
    "        return self.balance     # Return the new balance\n",
    "\n",
    "    # Define a method to withdraw money from the bank account\n",
    "    def withdraw(self, amount):\n",
    "        if amount > self.balance:\n",
    "            print(\"Insufficient funds!\")  # Print an error if there are not enough funds\n",
    "            return self.balance           # Return the current balance\n",
    "        else:\n",
    "            self.balance -= amount        # Decrease the balance by the withdrawal amount\n",
    "            return self.balance           # Return the new balance\n"
   ]
  },
  {
   "cell_type": "code",
   "execution_count": null,
   "id": "09406c22",
   "metadata": {},
   "outputs": [],
   "source": [
    "# Create a new instance of Bank with an initial balance of 100\n",
    "my_bank_account = Bank(100)"
   ]
  },
  {
   "cell_type": "code",
   "execution_count": null,
   "id": "25a74ed0",
   "metadata": {},
   "outputs": [],
   "source": [
    "# Deposit 50 into the bank account and print the new balance\n",
    "print(\"Balance after deposit:\", my_bank_account.deposit(50))  # Expected output: 150"
   ]
  },
  {
   "cell_type": "code",
   "execution_count": null,
   "id": "9c78559b",
   "metadata": {},
   "outputs": [],
   "source": [
    "# Withdraw 30 from the bank account and print the new balance\n",
    "print(\"Balance after withdrawal:\", my_bank_account.withdraw(30))  # Expected output: 120"
   ]
  },
  {
   "cell_type": "code",
   "execution_count": null,
   "id": "de7d1488",
   "metadata": {},
   "outputs": [],
   "source": [
    "# Attempt to withdraw 200 from the bank account (should show an error)\n",
    "print(\"Balance after attempting to withdraw 200:\", my_bank_account.withdraw(200))  # Expected output: Insufficient funds! 120"
   ]
  }
 ],
 "metadata": {
  "kernelspec": {
   "display_name": "Python 3 (ipykernel)",
   "language": "python",
   "name": "python3"
  },
  "language_info": {
   "codemirror_mode": {
    "name": "ipython",
    "version": 3
   },
   "file_extension": ".py",
   "mimetype": "text/x-python",
   "name": "python",
   "nbconvert_exporter": "python",
   "pygments_lexer": "ipython3",
   "version": "3.10.9"
  }
 },
 "nbformat": 4,
 "nbformat_minor": 5
}
