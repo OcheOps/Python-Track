{
 "cells": [
  {
   "cell_type": "markdown",
   "id": "343642fe",
   "metadata": {},
   "source": [
    "# Objective\n",
    "\n",
    "1. Write a Python program to perform a binary search.\n",
    "\n",
    "   **Test Data:**\n",
    "   - `binary_search([1, 2, 3, 5, 8], 6)` → `False`\n",
    "   - `binary_search([1, 2, 3, 5, 8], 5)` → `True`\n",
    "\n",
    "2. Write a Python program to calculate the value of `a` raised to the power of `b`.\n",
    "\n",
    "   **Test Data:**\n",
    "   - `power(3, 4)` → `81`\n",
    "\n",
    "3. Write a Python program to sort a list of elements using the bubble sort algorithm.\n",
    "\n",
    "   **Sample Data:** `[29, 13, 22, 37, 52, 49, 46, 71, 56]`\n",
    "\n",
    "   **Expected Result:** `[13, 22, 29, 37, 46, 49, 56, 71]`\n",
    "\n",
    "4. Write a Python program to sort a list of elements using the merge sort algorithm.\n",
    "\n",
    "   **Sample Data:** `[29, 13, 22, 37, 52, 49, 46, 71, 56]`\n",
    "\n",
    "   **Expected Result:** `[13, 22, 29, 37, 46, 49, 56, 71]`\n",
    "\n",
    "5. Write a Python program to sort a list of elements using the quick sort algorithm.\n",
    "\n",
    "   **Sample Data:** `[29, 13, 22, 37, 52, 49, 46, 71, 56]`\n",
    "\n",
    "   **Expected Result:** `[13, 22, 29, 37, 46, 49, 56, 71]`"
   ]
  },
  {
   "cell_type": "markdown",
   "id": "f38e298a",
   "metadata": {},
   "source": [
    "### 1. Binary Search"
   ]
  },
  {
   "cell_type": "code",
   "execution_count": null,
   "id": "5c4c44bb",
   "metadata": {},
   "outputs": [],
   "source": [
    "def binary_search(arr, target):\n",
    "    left, right = 0, len(arr) - 1\n",
    "    while left <= right:\n",
    "        mid = (left + right) // 2\n",
    "        if arr[mid] == target:\n",
    "            return True\n",
    "        elif arr[mid] < target:\n",
    "            left = mid + 1\n",
    "        else:\n",
    "            right = mid - 1\n",
    "    return False\n",
    "\n",
    "# Test Data\n",
    "print(binary_search([1, 2, 3, 5, 8], 6))  # Output: False\n",
    "print(binary_search([1, 2, 3, 5, 8], 5))  # Output: True"
   ]
  },
  {
   "cell_type": "markdown",
   "id": "936d9d93",
   "metadata": {},
   "source": [
    "### 2. Power Calculation"
   ]
  },
  {
   "cell_type": "code",
   "execution_count": null,
   "id": "a5b5de1d",
   "metadata": {},
   "outputs": [],
   "source": [
    "def power(a, b):\n",
    "    return a ** b\n",
    "\n",
    "# Test Data\n",
    "print(power(3, 4))  # Output: 81"
   ]
  },
  {
   "cell_type": "markdown",
   "id": "89710733",
   "metadata": {},
   "source": [
    "### 3. Bubble Sort"
   ]
  },
  {
   "cell_type": "code",
   "execution_count": null,
   "id": "4f7a05ec",
   "metadata": {},
   "outputs": [],
   "source": [
    "def bubble_sort(arr):\n",
    "    n = len(arr)\n",
    "    for i in range(n):\n",
    "        for j in range(0, n-i-1):\n",
    "            if arr[j] > arr[j+1]:\n",
    "                arr[j], arr[j+1] = arr[j+1], arr[j]  # Swap if the element found is greater\n",
    "    return arr\n",
    "\n",
    "# Sample Data\n",
    "data = [29, 13, 22, 37, 52, 49, 46, 71, 56]\n",
    "print(bubble_sort(data))  # Output: [13, 22, 29, 37, 46, 49, 56, 71]"
   ]
  },
  {
   "cell_type": "markdown",
   "id": "092016aa",
   "metadata": {},
   "source": [
    "### 4. Merge Sort"
   ]
  },
  {
   "cell_type": "code",
   "execution_count": null,
   "id": "ae1ea05a",
   "metadata": {},
   "outputs": [],
   "source": [
    "def merge_sort(arr):\n",
    "    if len(arr) > 1:\n",
    "        mid = len(arr) // 2\n",
    "        left_half = arr[:mid]\n",
    "        right_half = arr[mid:]\n",
    "\n",
    "        merge_sort(left_half)  # Recursive call on the left half\n",
    "        merge_sort(right_half)  # Recursive call on the right half\n",
    "\n",
    "        i = j = k = 0\n",
    "\n",
    "        # Merging the sorted halves\n",
    "        while i < len(left_half) and j < len(right_half):\n",
    "            if left_half[i] < right_half[j]:\n",
    "                arr[k] = left_half[i]\n",
    "                i += 1\n",
    "            else:\n",
    "                arr[k] = right_half[j]\n",
    "                j += 1\n",
    "            k += 1\n",
    "\n",
    "        while i < len(left_half):\n",
    "            arr[k] = left_half[i]\n",
    "            i += 1\n",
    "            k += 1\n",
    "\n",
    "        while j < len(right_half):\n",
    "            arr[k] = right_half[j]\n",
    "            j += 1\n",
    "            k += 1\n",
    "\n",
    "    return arr\n",
    "\n",
    "# Sample Data\n",
    "data = [29, 13, 22, 37, 52, 49, 46, 71, 56]\n",
    "print(merge_sort(data))  # Output: [13, 22, 29, 37, 46, 49, 56, 71]"
   ]
  },
  {
   "cell_type": "markdown",
   "id": "f68dceae",
   "metadata": {},
   "source": [
    "### 5. Quick Sort"
   ]
  },
  {
   "cell_type": "code",
   "execution_count": null,
   "id": "119641e0",
   "metadata": {},
   "outputs": [],
   "source": [
    "def quick_sort(arr):\n",
    "    if len(arr) <= 1:\n",
    "        return arr\n",
    "    pivot = arr[len(arr) // 2]\n",
    "    left = [x for x in arr if x < pivot]\n",
    "    middle = [x for x in arr if x == pivot]\n",
    "    right = [x for x in arr if x > pivot]\n",
    "    return quick_sort(left) + middle + quick_sort(right)\n",
    "\n",
    "# Sample Data\n",
    "data = [29, 13, 22, 37, 52, 49, 46, 71, 56]\n",
    "print(quick_sort(data))  # Output: [13, 22, 29, 37, 46, 49, 56, 71]"
   ]
  }
 ],
 "metadata": {
  "kernelspec": {
   "display_name": "Python 3 (ipykernel)",
   "language": "python",
   "name": "python3"
  },
  "language_info": {
   "codemirror_mode": {
    "name": "ipython",
    "version": 3
   },
   "file_extension": ".py",
   "mimetype": "text/x-python",
   "name": "python",
   "nbconvert_exporter": "python",
   "pygments_lexer": "ipython3",
   "version": "3.10.9"
  }
 },
 "nbformat": 4,
 "nbformat_minor": 5
}
