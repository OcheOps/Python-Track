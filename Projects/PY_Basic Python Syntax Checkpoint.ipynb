{
 "cells": [
  {
   "cell_type": "markdown",
   "id": "d8838cca",
   "metadata": {},
   "source": [
    "# Objective\n",
    "\n",
    "The objective of the game is to guess a randomly generated number between 1 and 100.\n",
    "\n",
    "### Description\n",
    "\n",
    "\"Guess the Number\" is a single-player game where the player is prompted to guess a number between 1 and 100. The game provides feedback if the player's guess is too high or too low until they correctly guess the number.\n",
    "\n",
    "### Instructions\n",
    "\n",
    "1. **Prompt for User Input:**\n",
    "   Use the `input` function to get the player's guess and convert it to an integer.\n",
    "\n",
    "2. **Generate Random Number:**\n",
    "   Import the `random` module and use `random.randint()` to generate a random number between 1 and 100.\n",
    "\n",
    "3. **Check the Guess:**\n",
    "   Use `if/else` statements to determine if the guess is too high, too low, or correct.\n",
    "\n",
    "4. **Provide Feedback:**\n",
    "   Use the `print` function to inform the player if their guess is too high, too low, or correct.\n",
    "\n",
    "5. **Continue Prompting:**\n",
    "   Use a `while` loop to keep asking for guesses until the player correctly guesses the number."
   ]
  },
  {
   "cell_type": "code",
   "execution_count": null,
   "id": "b5c1b713",
   "metadata": {},
   "outputs": [],
   "source": [
    "import random  # Import the random module\n",
    "\n",
    "def guess_the_number():\n",
    "    # Generate a random number between 1 and 100\n",
    "    number_to_guess = random.randint(1, 100)\n",
    "    print(\"Welcome to the Guess the Number game!\")\n",
    "    print(\"I'm thinking of a number between 1 and 100. Can you guess what it is?\")\n",
    "\n",
    "    while True:\n",
    "        # Prompt the player to enter their guess\n",
    "        guess = input(\"Enter your guess: \")\n",
    "        \n",
    "        try:\n",
    "            # Convert the guess to an integer\n",
    "            guess = int(guess)\n",
    "        except ValueError:\n",
    "            # Handle non-integer inputs\n",
    "            print(\"Please enter a valid number.\")\n",
    "            continue\n",
    "        \n",
    "        # Check if the guess is correct, too high, or too low\n",
    "        if guess < number_to_guess:\n",
    "            print(\"Your guess is too low. Guess again.\")\n",
    "        elif guess > number_to_guess:\n",
    "            print(\"Your guess is too high. Guess again.\")\n",
    "        else:\n",
    "            # Correct guess\n",
    "            print(\"Congratulations! You guessed the number correctly!\")\n",
    "            break  # Exit the loop\n",
    "\n",
    "# Run the game\n",
    "guess_the_number()"
   ]
  }
 ],
 "metadata": {
  "kernelspec": {
   "display_name": "Python 3 (ipykernel)",
   "language": "python",
   "name": "python3"
  },
  "language_info": {
   "codemirror_mode": {
    "name": "ipython",
    "version": 3
   },
   "file_extension": ".py",
   "mimetype": "text/x-python",
   "name": "python",
   "nbconvert_exporter": "python",
   "pygments_lexer": "ipython3",
   "version": "3.10.9"
  }
 },
 "nbformat": 4,
 "nbformat_minor": 5
}
