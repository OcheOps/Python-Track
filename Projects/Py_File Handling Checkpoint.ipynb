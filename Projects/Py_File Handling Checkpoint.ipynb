{
 "cells": [
  {
   "cell_type": "markdown",
   "id": "66702f69",
   "metadata": {},
   "source": [
    "# Objective\n",
    "\n",
    "1. Write a Python program to read an entire text file.\n",
    "\n",
    "2. Write a Python program to read the first *n* lines of a file.\n",
    "\n",
    "3. Write a Python program to read the last *n* lines of a file.\n",
    "\n",
    "4. Write a Python program that takes a text file as input and returns the number of words in the given text file.\n",
    "\n",
    "5. (Bonus) Write a Python program to read the last *n* lines of a file."
   ]
  },
  {
   "cell_type": "markdown",
   "id": "e93f6ebc",
   "metadata": {},
   "source": [
    "### 1. Write a Python program to read an entire text file."
   ]
  },
  {
   "cell_type": "code",
   "execution_count": null,
   "id": "5b2f2196",
   "metadata": {},
   "outputs": [],
   "source": [
    "def read_entire_file(file_path):\n",
    "    # Open the file in read mode ('r') and automatically close it after reading\n",
    "    with open(file_path, 'r') as file:\n",
    "        content = file.read()  # Read the entire content of the file\n",
    "    return content  # Return the content\n",
    "\n",
    "# Example usage:\n",
    "file_path = 'example.txt'  # Specify the path to your text file\n",
    "print(read_entire_file(file_path))  # Print the content of the file"
   ]
  },
  {
   "cell_type": "markdown",
   "id": "525e3a71",
   "metadata": {},
   "source": [
    "### 2. Write a Python program to read the first n lines of a file."
   ]
  },
  {
   "cell_type": "code",
   "execution_count": null,
   "id": "5d3d7b28",
   "metadata": {},
   "outputs": [],
   "source": [
    "def read_first_n_lines(file_path, n):\n",
    "    # Open the file in read mode ('r') and automatically close it after reading\n",
    "    with open(file_path, 'r') as file:\n",
    "        lines = file.read().splitlines()  # Read the entire content and split it into lines\n",
    "    return lines[:n]  # Return the first n lines\n",
    "\n",
    "# Example usage:\n",
    "n = 5  # Number of lines to read\n",
    "print(read_first_n_lines(file_path, n))  # Print the first n lines of the file"
   ]
  },
  {
   "cell_type": "markdown",
   "id": "d9a92ae3",
   "metadata": {},
   "source": [
    "### 3. Write a Python program to read the last n lines of a file."
   ]
  },
  {
   "cell_type": "code",
   "execution_count": null,
   "id": "c9c4a41b",
   "metadata": {},
   "outputs": [],
   "source": [
    "def read_last_n_lines(file_path, n):\n",
    "    # Open the file in read mode ('r') and automatically close it after reading\n",
    "    with open(file_path, 'r') as file:\n",
    "        lines = file.read().splitlines()  # Read the entire content and split it into lines\n",
    "    return lines[-n:]  # Return the last n lines\n",
    "\n",
    "# Example usage:\n",
    "print(read_last_n_lines(file_path, n))  # Print the last n lines of the file"
   ]
  },
  {
   "cell_type": "markdown",
   "id": "9295df21",
   "metadata": {},
   "source": [
    "### 4. Write a Python program that takes a text file as input and returns the number of words of a given text file."
   ]
  },
  {
   "cell_type": "code",
   "execution_count": null,
   "id": "4b9cbe7a",
   "metadata": {},
   "outputs": [],
   "source": [
    "def count_words_in_file(file_path):\n",
    "    # Open the file in read mode ('r') and automatically close it after reading\n",
    "    with open(file_path, 'r') as file:\n",
    "        content = file.read()  # Read the entire content of the file\n",
    "    words = content.split()  # Split the content into words\n",
    "    return len(words)  # Return the number of words\n",
    "\n",
    "# Example usage:\n",
    "print(count_words_in_file(file_path))  # Print the number of words in the file"
   ]
  }
 ],
 "metadata": {
  "kernelspec": {
   "display_name": "Python 3 (ipykernel)",
   "language": "python",
   "name": "python3"
  },
  "language_info": {
   "codemirror_mode": {
    "name": "ipython",
    "version": 3
   },
   "file_extension": ".py",
   "mimetype": "text/x-python",
   "name": "python",
   "nbconvert_exporter": "python",
   "pygments_lexer": "ipython3",
   "version": "3.10.9"
  }
 },
 "nbformat": 4,
 "nbformat_minor": 5
}
