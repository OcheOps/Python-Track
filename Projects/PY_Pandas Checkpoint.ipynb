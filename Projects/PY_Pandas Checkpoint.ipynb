{
 "cells": [
  {
   "cell_type": "markdown",
   "id": "91fea1b3",
   "metadata": {},
   "source": [
    "# Objective\n",
    "Write a Pandas program to create and display a DataFrame from the following dictionary data with index labels.\n",
    "\n",
    "```\n",
    "exam_data = {\n",
    "    'name': ['Anastasia', 'Dima', 'Katherine', 'James', 'Emily', 'Michael', 'Matthew', 'Laura', 'Kevin', 'Jonas'],\n",
    "    'score': [12.5, 9, 16.5, np.nan, 9, 20, 14.5, np.nan, 8, 19],\n",
    "    'attempts': [1, 3, 2, 3, 2, 3, 1, 1, 2, 1],\n",
    "    'qualify': ['yes', 'no', 'yes', 'no', 'no', 'yes', 'yes', 'no', 'no', 'yes']\n",
    "}\n",
    "labels = ['a', 'b', 'c', 'd', 'e', 'f', 'g', 'h', 'i', 'j']\n",
    "```\n",
    "---\n",
    "**Instructions**\n",
    "1. Print the first three rows using the `head()` method.\n",
    "2. Delete rows with NaN values.\n",
    "3. Extract the 'name' and 'score' columns from the DataFrame.\n",
    "4. Append a new row 'k' to the DataFrame with these values: (name: \"Suresh\", score: 15.5, attempts: 1, qualify: \"yes\").\n",
    "5. Delete the 'attempts' column from the DataFrame.\n",
    "6. Add a new column \"Success\": if the score is higher than 10, we will have 1, else we will have 0.\n",
    "7. After executing the final DataFrame, export it into a CSV file named \"my_data.csv\"."
   ]
  },
  {
   "cell_type": "code",
   "execution_count": null,
   "id": "6bb6ca28",
   "metadata": {},
   "outputs": [],
   "source": [
    "import pandas as pd\n",
    "import numpy as np"
   ]
  },
  {
   "cell_type": "code",
   "execution_count": null,
   "id": "4775139e",
   "metadata": {},
   "outputs": [],
   "source": [
    "# Given dictionary data\n",
    "exam_data = {\n",
    "    'name': ['Anastasia', 'Dima', 'Katherine', 'James', 'Emily', 'Michael', 'Matthew', 'Laura', 'Kevin', 'Jonas'],\n",
    "    'score': [12.5, 9, 16.5, np.nan, 9, 20, 14.5, np.nan, 8, 19],\n",
    "    'attempts': [1, 3, 2, 3, 2, 3, 1, 1, 2, 1],\n",
    "    'qualify': ['yes', 'no', 'yes', 'no', 'no', 'yes', 'yes', 'no', 'no', 'yes']\n",
    "}\n",
    "labels = ['a', 'b', 'c', 'd', 'e', 'f', 'g', 'h', 'i', 'j']"
   ]
  },
  {
   "cell_type": "code",
   "execution_count": null,
   "id": "b7cead2f",
   "metadata": {},
   "outputs": [],
   "source": [
    "# Step 1: Create the DataFrame\n",
    "df = pd.DataFrame(exam_data, index=labels)"
   ]
  },
  {
   "cell_type": "code",
   "execution_count": null,
   "id": "1dee6f14",
   "metadata": {},
   "outputs": [],
   "source": [
    "# Step 2: Print the first three rows using head() method\n",
    "print(\"First three rows of the DataFrame:\")\n",
    "print(df.head(3))"
   ]
  },
  {
   "cell_type": "code",
   "execution_count": null,
   "id": "dfc7de42",
   "metadata": {},
   "outputs": [],
   "source": [
    "# Step 3: Delete rows with NaN values\n",
    "df_cleaned = df.dropna()\n",
    "print(\"\\nDataFrame after removing rows with NaN values:\")\n",
    "print(df_cleaned)"
   ]
  },
  {
   "cell_type": "code",
   "execution_count": null,
   "id": "e3d0ef1e",
   "metadata": {},
   "outputs": [],
   "source": [
    "# Step 4: Extract the 'name' and 'score' columns\n",
    "extracted_columns = df_cleaned[['name', 'score']]\n",
    "print(\"\\nExtracted 'name' and 'score' columns:\")\n",
    "print(extracted_columns)"
   ]
  },
  {
   "cell_type": "code",
   "execution_count": null,
   "id": "d65867e5",
   "metadata": {},
   "outputs": [],
   "source": [
    "# Step 5: Append a new row 'k'\n",
    "new_row = pd.Series({'name': 'Suresh', 'score': 15.5, 'attempts': 1, 'qualify': 'yes'}, name='k')\n",
    "df_cleaned = df_cleaned.append(new_row)\n",
    "print(\"\\nDataFrame after appending new row 'k':\")\n",
    "print(df_cleaned)"
   ]
  },
  {
   "cell_type": "code",
   "execution_count": null,
   "id": "bd4bda67",
   "metadata": {},
   "outputs": [],
   "source": [
    "# Step 6: Delete the 'attempts' column\n",
    "df_cleaned = df_cleaned.drop(columns=['attempts'])\n",
    "print(\"\\nDataFrame after deleting the 'attempts' column:\")\n",
    "print(df_cleaned)"
   ]
  },
  {
   "cell_type": "code",
   "execution_count": null,
   "id": "39d24975",
   "metadata": {},
   "outputs": [],
   "source": [
    "# Step 7: Add a new column 'Success'\n",
    "df_cleaned['Success'] = df_cleaned['score'].apply(lambda x: 1 if x > 10 else 0)\n",
    "print(\"\\nDataFrame after adding 'Success' column:\")\n",
    "print(df_cleaned)"
   ]
  },
  {
   "cell_type": "code",
   "execution_count": null,
   "id": "d6e704ec",
   "metadata": {},
   "outputs": [],
   "source": [
    "# Step 8: Export the final DataFrame to a CSV file named \"my_data.csv\"\n",
    "df_cleaned.to_csv('my_data.csv', index=True)\n",
    "print(\"\\nFinal DataFrame exported to 'my_data.csv'\")"
   ]
  }
 ],
 "metadata": {
  "kernelspec": {
   "display_name": "Python 3 (ipykernel)",
   "language": "python",
   "name": "python3"
  },
  "language_info": {
   "codemirror_mode": {
    "name": "ipython",
    "version": 3
   },
   "file_extension": ".py",
   "mimetype": "text/x-python",
   "name": "python",
   "nbconvert_exporter": "python",
   "pygments_lexer": "ipython3",
   "version": "3.10.9"
  }
 },
 "nbformat": 4,
 "nbformat_minor": 5
}
